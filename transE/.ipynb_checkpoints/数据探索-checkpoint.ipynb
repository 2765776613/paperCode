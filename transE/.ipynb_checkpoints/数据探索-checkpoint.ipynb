{
 "cells": [
  {
   "cell_type": "code",
   "execution_count": 20,
   "metadata": {},
   "outputs": [],
   "source": [
    "import codecs"
   ]
  },
  {
   "cell_type": "code",
   "execution_count": 21,
   "metadata": {},
   "outputs": [],
   "source": [
    "file = \"FB15k/\"\n",
    "entity2id = {}\n",
    "relation2id = {}"
   ]
  },
  {
   "cell_type": "code",
   "execution_count": 22,
   "metadata": {},
   "outputs": [],
   "source": [
    "def data_loader(file):\n",
    "    file1 = file + \"train.txt\"\n",
    "    file2 = file + \"entity2id.txt\"\n",
    "    file3 = file + \"relation2id.txt\"\n",
    "\n",
    "    with open(file2, 'r') as f1, open(file3, 'r') as f2:\n",
    "        lines1 = f1.readlines()  # 返回一个列表\n",
    "        lines2 = f2.readlines() \n",
    "        for line in lines1:\n",
    "            line = line.strip().split('\\t')\n",
    "            if len(line) != 2:\n",
    "                continue\n",
    "            entity2id[line[0]] = line[1]\n",
    "\n",
    "        for line in lines2:\n",
    "            line = line.strip().split('\\t')\n",
    "            if len(line) != 2:\n",
    "                continue\n",
    "            relation2id[line[0]] = line[1]\n",
    "\n",
    "    entity_set = set()\n",
    "    relation_set = set()\n",
    "    triple_list = []\n",
    "\n",
    "    with codecs.open(file1, 'r') as f:\n",
    "        content = f.readlines()\n",
    "        for line in content:\n",
    "            triple = line.strip().split(\"\\t\")\n",
    "            if len(triple) != 3:\n",
    "                continue\n",
    "\n",
    "            h_ = entity2id[triple[0]]\n",
    "            t_ = entity2id[triple[1]]\n",
    "            r_ = relation2id[triple[2]]\n",
    "\n",
    "            triple_list.append([h_, t_, r_])\n",
    "\n",
    "            entity_set.add(h_)\n",
    "            entity_set.add(t_)\n",
    "\n",
    "            relation_set.add(r_)\n",
    "\n",
    "    return entity_set, relation_set, triple_list"
   ]
  },
  {
   "cell_type": "code",
   "execution_count": 32,
   "metadata": {},
   "outputs": [],
   "source": [
    "entity_set, relation_set, triple_list = data_loader(file)"
   ]
  },
  {
   "cell_type": "code",
   "execution_count": 44,
   "metadata": {},
   "outputs": [
    {
     "name": "stdout",
     "output_type": "stream",
     "text": [
      "['9418', '13830', '5703', '2849', '3134', '1190', '5600', '5906', '6871', '7926']\n"
     ]
    }
   ],
   "source": [
    "print(list(entity_set)[:10])  # 实体集合"
   ]
  },
  {
   "cell_type": "code",
   "execution_count": 45,
   "metadata": {},
   "outputs": [
    {
     "name": "stdout",
     "output_type": "stream",
     "text": [
      "['1299', '328', '1339', '1049', '183', '103', '26', '351', '4', '229']\n"
     ]
    }
   ],
   "source": [
    "print(list(relation_set)[:10])  # 关系集合"
   ]
  },
  {
   "cell_type": "code",
   "execution_count": 42,
   "metadata": {},
   "outputs": [
    {
     "name": "stdout",
     "output_type": "stream",
     "text": [
      "[['9447', '5030', '352'], ['4886', '13680', '319'], ['7374', '13062', '648'], ['11436', '7445', '143'], ['12510', '4746', '381'], ['6547', '4439', '246'], ['5281', '10596', '579'], ['11562', '6580', '751'], ['3015', '2119', '387'], ['8641', '6183', '1226']]\n"
     ]
    }
   ],
   "source": [
    "print(triple_list[:10])  # 三元组列表"
   ]
  },
  {
   "cell_type": "code",
   "execution_count": null,
   "metadata": {},
   "outputs": [],
   "source": []
  }
 ],
 "metadata": {
  "kernelspec": {
   "display_name": "Python 3",
   "language": "python",
   "name": "python3"
  },
  "language_info": {
   "codemirror_mode": {
    "name": "ipython",
    "version": 3
   },
   "file_extension": ".py",
   "mimetype": "text/x-python",
   "name": "python",
   "nbconvert_exporter": "python",
   "pygments_lexer": "ipython3",
   "version": "3.6.5"
  }
 },
 "nbformat": 4,
 "nbformat_minor": 2
}
