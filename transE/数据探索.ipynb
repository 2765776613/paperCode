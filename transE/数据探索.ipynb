{
 "cells": [
  {
   "cell_type": "code",
   "execution_count": 5,
   "metadata": {},
   "outputs": [],
   "source": [
    "import codecs\n",
    "import numpy as np\n",
    "import random \n",
    "import time"
   ]
  },
  {
   "cell_type": "markdown",
   "metadata": {},
   "source": [
    "## 数据处理1 train"
   ]
  },
  {
   "cell_type": "code",
   "execution_count": 6,
   "metadata": {},
   "outputs": [],
   "source": [
    "file = \"FB15k/\"\n",
    "entity2id = {}\n",
    "relation2id = {}"
   ]
  },
  {
   "cell_type": "code",
   "execution_count": 7,
   "metadata": {},
   "outputs": [],
   "source": [
    "def data_loader(file):\n",
    "    file1 = file + \"train.txt\"\n",
    "    file2 = file + \"entity2id.txt\"\n",
    "    file3 = file + \"relation2id.txt\"\n",
    "\n",
    "    with open(file2, 'r') as f1, open(file3, 'r') as f2:\n",
    "        lines1 = f1.readlines()  # 返回一个列表\n",
    "        lines2 = f2.readlines() \n",
    "        for line in lines1:\n",
    "            line = line.strip().split('\\t')\n",
    "            if len(line) != 2:\n",
    "                continue\n",
    "            entity2id[line[0]] = line[1]\n",
    "\n",
    "        for line in lines2:\n",
    "            line = line.strip().split('\\t')\n",
    "            if len(line) != 2:\n",
    "                continue\n",
    "            relation2id[line[0]] = line[1]\n",
    "\n",
    "    entity_set = set()\n",
    "    relation_set = set()\n",
    "    triple_list = []\n",
    "\n",
    "    with codecs.open(file1, 'r') as f:\n",
    "        content = f.readlines()\n",
    "        for line in content:\n",
    "            triple = line.strip().split(\"\\t\")\n",
    "            if len(triple) != 3:\n",
    "                continue\n",
    "\n",
    "            h_ = entity2id[triple[0]]\n",
    "            t_ = entity2id[triple[1]]\n",
    "            r_ = relation2id[triple[2]]\n",
    "\n",
    "            triple_list.append([h_, t_, r_])\n",
    "\n",
    "            entity_set.add(h_)\n",
    "            entity_set.add(t_)\n",
    "\n",
    "            relation_set.add(r_)\n",
    "\n",
    "    return entity_set, relation_set, triple_list"
   ]
  },
  {
   "cell_type": "code",
   "execution_count": 8,
   "metadata": {},
   "outputs": [],
   "source": [
    "entity_set, relation_set, triple_list = data_loader(file)"
   ]
  },
  {
   "cell_type": "code",
   "execution_count": 9,
   "metadata": {},
   "outputs": [
    {
     "name": "stdout",
     "output_type": "stream",
     "text": [
      "['7919', '14689', '9767', '3823', '9498', '11573', '11776', '3609', '14521', '9680']\n"
     ]
    }
   ],
   "source": [
    "print(list(entity_set)[:10])  # 实体集合"
   ]
  },
  {
   "cell_type": "code",
   "execution_count": 10,
   "metadata": {},
   "outputs": [
    {
     "name": "stdout",
     "output_type": "stream",
     "text": [
      "['789', '9', '930', '456', '1277', '819', '941', '1229', '1070', '513']\n"
     ]
    }
   ],
   "source": [
    "print(list(relation_set)[:10])  # 关系集合"
   ]
  },
  {
   "cell_type": "code",
   "execution_count": 11,
   "metadata": {},
   "outputs": [
    {
     "name": "stdout",
     "output_type": "stream",
     "text": [
      "[['9447', '5030', '352'], ['4886', '13680', '319'], ['7374', '13062', '648'], ['11436', '7445', '143'], ['12510', '4746', '381'], ['6547', '4439', '246'], ['5281', '10596', '579'], ['11562', '6580', '751'], ['3015', '2119', '387'], ['8641', '6183', '1226']]\n"
     ]
    }
   ],
   "source": [
    "print(triple_list[:10])  # 三元组列表"
   ]
  },
  {
   "cell_type": "markdown",
   "metadata": {},
   "source": [
    "## 数据处理2 test"
   ]
  },
  {
   "cell_type": "code",
   "execution_count": 12,
   "metadata": {},
   "outputs": [],
   "source": [
    "import codecs\n",
    "import json"
   ]
  },
  {
   "cell_type": "code",
   "execution_count": 13,
   "metadata": {},
   "outputs": [],
   "source": [
    "entity_file=\"entity_temp\"\n",
    "test_file=\"FB15K/test.txt\"\n",
    "entity_dict={}\n",
    "test_triple=[]"
   ]
  },
  {
   "cell_type": "code",
   "execution_count": 14,
   "metadata": {},
   "outputs": [],
   "source": [
    "with codecs.open(entity_file) as e_f:\n",
    "    lines = e_f.readlines()\n",
    "    for line in lines:\n",
    "        entity, embedding = line.strip().split('\\t')\n",
    "#         print(embedding)\n",
    "        embedding = json.loads(embedding)\n",
    "        entity_dict[entity] = embedding"
   ]
  },
  {
   "cell_type": "code",
   "execution_count": 15,
   "metadata": {},
   "outputs": [],
   "source": [
    "with codecs.open(test_file) as t_f:\n",
    "    lines = t_f.readlines()\n",
    "    for line in lines:\n",
    "        triple = line.strip().split('\\t')\n",
    "        if len(triple) != 3:\n",
    "            continue\n",
    "        h_ = entity2id[triple[0]]\n",
    "        t_ = entity2id[triple[1]]\n",
    "        r_ = relation2id[triple[2]]\n",
    "\n",
    "        test_triple.append(tuple((h_, t_, r_)))"
   ]
  },
  {
   "cell_type": "code",
   "execution_count": 17,
   "metadata": {},
   "outputs": [
    {
     "data": {
      "text/plain": [
       "[('12577', '7744', '1142'),\n",
       " ('935', '8353', '655'),\n",
       " ('6504', '3679', '1001'),\n",
       " ('12249', '2835', '470'),\n",
       " ('347', '6976', '1142'),\n",
       " ('925', '14637', '624'),\n",
       " ('650', '7221', '1096'),\n",
       " ('1483', '5653', '1164'),\n",
       " ('1483', '10307', '1164'),\n",
       " ('2241', '13143', '1226')]"
      ]
     },
     "execution_count": 17,
     "metadata": {},
     "output_type": "execute_result"
    }
   ],
   "source": [
    "test_triple[:10]"
   ]
  },
  {
   "cell_type": "code",
   "execution_count": null,
   "metadata": {},
   "outputs": [],
   "source": []
  }
 ],
 "metadata": {
  "kernelspec": {
   "display_name": "Python 3",
   "language": "python",
   "name": "python3"
  },
  "language_info": {
   "codemirror_mode": {
    "name": "ipython",
    "version": 3
   },
   "file_extension": ".py",
   "mimetype": "text/x-python",
   "name": "python",
   "nbconvert_exporter": "python",
   "pygments_lexer": "ipython3",
   "version": "3.6.5"
  }
 },
 "nbformat": 4,
 "nbformat_minor": 2
}
